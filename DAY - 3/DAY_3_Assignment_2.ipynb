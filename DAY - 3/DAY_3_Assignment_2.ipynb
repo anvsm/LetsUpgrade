{
  "nbformat": 4,
  "nbformat_minor": 0,
  "metadata": {
    "colab": {
      "name": "DAY- 3 Assignment 2.ipynb",
      "provenance": []
    },
    "kernelspec": {
      "name": "python3",
      "display_name": "Python 3"
    }
  },
  "cells": [
    {
      "cell_type": "code",
      "metadata": {
        "id": "kUvRhsRuswd6",
        "colab_type": "code",
        "colab": {
          "base_uri": "https://localhost:8080/",
          "height": 69
        },
        "outputId": "f79ee93f-bd54-48ef-c2fc-e75d175b8c6a"
      },
      "source": [
        "from random import randint \n",
        "\n",
        "computer_generated_team_india_score = randint(1,250)\n",
        "print(\"Computer Generated Team India Cricket Score - \",computer_generated_team_india_score)\n",
        "\n",
        "while True:\n",
        "    user_input = int(input(\"enter your guess \"))\n",
        "    if(user_input>=1 and user_input<=250):\n",
        "        break\n",
        "    else:\n",
        "        print(\"Reduce your expectation for 20-20 Cricket. Enter your number again\")\n",
        "\n",
        " \n",
        "diffeence = abs(user_input - computer_generated_team_india_score)\n",
        "\n",
        "if ( diffeence <=10 and diffeence >=1):\n",
        "    print(\"Close by, you are True Indian Fan!\")\n",
        "else:\n",
        "    print(\"You don't watch that much! :P\")"
      ],
      "execution_count": 1,
      "outputs": [
        {
          "output_type": "stream",
          "text": [
            "Computer Generated Team India Cricket Score -  199\n",
            "enter your guess 168\n",
            "You don't watch that much! :P\n"
          ],
          "name": "stdout"
        }
      ]
    },
    {
      "cell_type": "code",
      "metadata": {
        "id": "DmiaggU0tAvd",
        "colab_type": "code",
        "colab": {}
      },
      "source": [
        ""
      ],
      "execution_count": 0,
      "outputs": []
    }
  ]
}