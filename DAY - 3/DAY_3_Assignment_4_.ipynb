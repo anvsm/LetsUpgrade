{
  "nbformat": 4,
  "nbformat_minor": 0,
  "metadata": {
    "colab": {
      "name": "DAY- 3 Assignment 4  .ipynb",
      "provenance": []
    },
    "kernelspec": {
      "name": "python3",
      "display_name": "Python 3"
    }
  },
  "cells": [
    {
      "cell_type": "code",
      "metadata": {
        "id": "mqUGAkQwXxSR",
        "colab_type": "code",
        "colab": {
          "base_uri": "https://localhost:8080/",
          "height": 156
        },
        "outputId": "ad4d73a7-5b3f-4ca0-da8c-c7053f38bce8"
      },
      "source": [
        "n = int(input(\"Enter number of chances you want a user to upload ?\"))\n",
        "\n",
        " \n",
        "l = int(input(\"Enter the min Length ?\"))\n",
        "\n",
        "curent_operation = 0\n",
        "while(curent_operation<n):\n",
        "    curent_operation += 1\n",
        "    \n",
        "    h = int(input(\"Enter ur Height of photo ?\"))\n",
        "    w = int(input(\"Enter ur Width of the photo ?\"))\n",
        "    \n",
        "    if ( h >= l and w >=l):\n",
        "        if(h==w):\n",
        "            print(\"Accepted\")\n",
        "        else:\n",
        "            print(\"Crop it\")\n",
        "    else:\n",
        "        print(\"minimum photo size should be - \", l )"
      ],
      "execution_count": 3,
      "outputs": [
        {
          "output_type": "stream",
          "text": [
            "Enter number of chances you want a user to upload ?2\n",
            "Enter the min Length ?10\n",
            "Enter ur Height of photo ?32\n",
            "Enter ur Width of the photo ?23\n",
            "Crop it\n",
            "Enter ur Height of photo ?67\n",
            "Enter ur Width of the photo ?34\n",
            "Crop it\n"
          ],
          "name": "stdout"
        }
      ]
    },
    {
      "cell_type": "code",
      "metadata": {
        "id": "PWyZfdHwqkLS",
        "colab_type": "code",
        "colab": {}
      },
      "source": [
        ""
      ],
      "execution_count": 0,
      "outputs": []
    }
  ]
}