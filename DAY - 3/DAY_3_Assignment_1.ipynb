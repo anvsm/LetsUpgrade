{
  "nbformat": 4,
  "nbformat_minor": 0,
  "metadata": {
    "colab": {
      "name": "DAY - 3 Assignment 1.ipynb",
      "provenance": []
    },
    "kernelspec": {
      "name": "python3",
      "display_name": "Python 3"
    }
  },
  "cells": [
    {
      "cell_type": "code",
      "metadata": {
        "id": "fXfqvqWysSI6",
        "colab_type": "code",
        "colab": {
          "base_uri": "https://localhost:8080/",
          "height": 87
        },
        "outputId": "1064a35d-120d-4002-d0c1-3a265845cf71"
      },
      "source": [
        "marks = int(input(\"Enter your marks - \"))\n",
        "\n",
        "print('|--------|')\n",
        "if(marks >= 85):\n",
        "    print(\"|   A    |\")\n",
        "elif (marks>=75 and marks <= 84):\n",
        "    print(\"|   B    |\")\n",
        "elif (marks>=65 and marks <= 74):\n",
        "    print(\"|   C    |\")\n",
        "elif (marks>=55 and marks <= 64):\n",
        "    print(\"|   D    |\")\n",
        "elif (marks>=45 and marks <= 54):\n",
        "    print(\"|   E    |\")\n",
        "else:\n",
        "    print(\"Need imporvement\")\n",
        "    \n",
        "print('|--------|')"
      ],
      "execution_count": 1,
      "outputs": [
        {
          "output_type": "stream",
          "text": [
            "Enter your marks - 84\n",
            "|--------|\n",
            "|   B    |\n",
            "|--------|\n"
          ],
          "name": "stdout"
        }
      ]
    },
    {
      "cell_type": "code",
      "metadata": {
        "id": "gxvkKxvisea_",
        "colab_type": "code",
        "colab": {}
      },
      "source": [
        ""
      ],
      "execution_count": 0,
      "outputs": []
    }
  ]
}