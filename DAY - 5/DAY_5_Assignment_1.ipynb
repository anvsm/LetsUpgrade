{
  "nbformat": 4,
  "nbformat_minor": 0,
  "metadata": {
    "colab": {
      "name": "DAY - 5 Assignment 1.ipynb",
      "provenance": []
    },
    "kernelspec": {
      "name": "python3",
      "display_name": "Python 3"
    }
  },
  "cells": [
    {
      "cell_type": "code",
      "metadata": {
        "id": "0-BjNTLGz7HC",
        "colab_type": "code",
        "colab": {}
      },
      "source": [
        "class Bank():\n",
        "    def __init__(self,owner,balance=0):\n",
        "        self.owner = owner\n",
        "        self.balance = balance\n",
        "        \n",
        "    def deposit(self, balance):\n",
        "        self.balance+=  balance\n",
        "        return self.balance\n",
        "    \n",
        "    def withdraw(self,balance):\n",
        "            if self.balance >= balance:\n",
        "                self.balance-=balance\n",
        "            else:\n",
        "                return \"Not Possible only \" + str(self.balance) + ' is avaliable'\n",
        "            return self.balance"
      ],
      "execution_count": 0,
      "outputs": []
    },
    {
      "cell_type": "code",
      "metadata": {
        "id": "hmgANJnp0J9h",
        "colab_type": "code",
        "colab": {}
      },
      "source": [
        "account1 = Bank('account1',200)"
      ],
      "execution_count": 0,
      "outputs": []
    },
    {
      "cell_type": "code",
      "metadata": {
        "id": "zksO0RRB0Qzs",
        "colab_type": "code",
        "colab": {
          "base_uri": "https://localhost:8080/",
          "height": 35
        },
        "outputId": "b80dfa89-4aa4-44c8-d847-3bdcac612193"
      },
      "source": [
        "account1.deposit(1000)"
      ],
      "execution_count": 4,
      "outputs": [
        {
          "output_type": "execute_result",
          "data": {
            "text/plain": [
              "1200"
            ]
          },
          "metadata": {
            "tags": []
          },
          "execution_count": 4
        }
      ]
    },
    {
      "cell_type": "code",
      "metadata": {
        "id": "VXjWMFaI0XI5",
        "colab_type": "code",
        "colab": {
          "base_uri": "https://localhost:8080/",
          "height": 35
        },
        "outputId": "8a7455e3-9519-40eb-e07e-adbb87bd803e"
      },
      "source": [
        "account1.withdraw(300)"
      ],
      "execution_count": 5,
      "outputs": [
        {
          "output_type": "execute_result",
          "data": {
            "text/plain": [
              "900"
            ]
          },
          "metadata": {
            "tags": []
          },
          "execution_count": 5
        }
      ]
    },
    {
      "cell_type": "code",
      "metadata": {
        "id": "gOKC_JFz0bzA",
        "colab_type": "code",
        "colab": {
          "base_uri": "https://localhost:8080/",
          "height": 35
        },
        "outputId": "51d4f110-d675-4417-ec23-a68622bcff16"
      },
      "source": [
        "account1.withdraw(3000)"
      ],
      "execution_count": 6,
      "outputs": [
        {
          "output_type": "execute_result",
          "data": {
            "text/plain": [
              "'Not Possible only 900 is avaliable'"
            ]
          },
          "metadata": {
            "tags": []
          },
          "execution_count": 6
        }
      ]
    },
    {
      "cell_type": "code",
      "metadata": {
        "id": "t8i0gJML0evb",
        "colab_type": "code",
        "colab": {}
      },
      "source": [
        ""
      ],
      "execution_count": 0,
      "outputs": []
    }
  ]
}