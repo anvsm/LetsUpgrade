{
  "nbformat": 4,
  "nbformat_minor": 0,
  "metadata": {
    "colab": {
      "name": "DAY - 6 Assignment 1.ipynb",
      "provenance": []
    },
    "kernelspec": {
      "name": "python3",
      "display_name": "Python 3"
    }
  },
  "cells": [
    {
      "cell_type": "code",
      "metadata": {
        "id": "BXiHg4pR1v9-",
        "colab_type": "code",
        "colab": {}
      },
      "source": [
        "import sympy\n",
        "\n",
        "def checkPrimeNumber(num):\n",
        "    if sympy.isprime(num):\n",
        "        return num\n",
        "    else:\n",
        "        return(\"No Prime\")"
      ],
      "execution_count": 0,
      "outputs": []
    },
    {
      "cell_type": "code",
      "metadata": {
        "id": "XmNGgmAW173f",
        "colab_type": "code",
        "colab": {
          "base_uri": "https://localhost:8080/",
          "height": 35
        },
        "outputId": "1363e700-f20b-487c-dfc8-06d362f3cfc9"
      },
      "source": [
        "checkPrimeNumber(7)"
      ],
      "execution_count": 3,
      "outputs": [
        {
          "output_type": "execute_result",
          "data": {
            "text/plain": [
              "7"
            ]
          },
          "metadata": {
            "tags": []
          },
          "execution_count": 3
        }
      ]
    },
    {
      "cell_type": "code",
      "metadata": {
        "id": "hjjame1Z1-52",
        "colab_type": "code",
        "colab": {
          "base_uri": "https://localhost:8080/",
          "height": 35
        },
        "outputId": "7e8c9c03-f958-4bbd-a569-3e859161f680"
      },
      "source": [
        "%%writefile check_pri.py\n",
        "import sympy\n",
        "'''\n",
        "Module to check prime Number\n",
        "'''\n",
        "def checkPrimeNumber(num):\n",
        "    '''\n",
        "    Function to Check Prime takes a Input\n",
        "    '''\n",
        "    if sympy.isprime(num):\n",
        "        '''\n",
        "        if statement\n",
        "        '''\n",
        "        return num\n",
        "    else:\n",
        "        return \"No Prime\""
      ],
      "execution_count": 4,
      "outputs": [
        {
          "output_type": "stream",
          "text": [
            "Writing check_pri.py\n"
          ],
          "name": "stdout"
        }
      ]
    },
    {
      "cell_type": "code",
      "metadata": {
        "id": "C9Nq9WuO2F-5",
        "colab_type": "code",
        "colab": {
          "base_uri": "https://localhost:8080/",
          "height": 35
        },
        "outputId": "931231bb-630e-4b64-e4af-9b57813e5fe4"
      },
      "source": [
        "!pylint chPrime.py"
      ],
      "execution_count": 7,
      "outputs": [
        {
          "output_type": "stream",
          "text": [
            "/bin/bash: pylint: command not found\n"
          ],
          "name": "stdout"
        }
      ]
    },
    {
      "cell_type": "code",
      "metadata": {
        "id": "-tLkVyia2KoJ",
        "colab_type": "code",
        "colab": {
          "base_uri": "https://localhost:8080/",
          "height": 35
        },
        "outputId": "4bb8b6c9-e030-440d-9cc0-67752d32e900"
      },
      "source": [
        "%%writefile check_prime.py\n",
        "import unittest \n",
        "import check_pri\n",
        "\n",
        "class TestPrime(unittest.TestCase):\n",
        "    def checkprimeNumber(self):\n",
        "        num = 7\n",
        "        result = chPrime.checkPrimeNumber(num)\n",
        "        self.assertEqual(result,num)\n",
        "\n",
        "    def checkNotPrimenumber(self):\n",
        "        num= 8\n",
        "        result = chPrime.checkPrimeNumber(num)\n",
        "        self.assertEqual(result,\"No Prime\")\n",
        "\n",
        "if __name__ == \"__main__\":\n",
        "    unittest.main()"
      ],
      "execution_count": 8,
      "outputs": [
        {
          "output_type": "stream",
          "text": [
            "Writing check_prime.py\n"
          ],
          "name": "stdout"
        }
      ]
    },
    {
      "cell_type": "code",
      "metadata": {
        "id": "tnQoxjVU2YGm",
        "colab_type": "code",
        "colab": {
          "base_uri": "https://localhost:8080/",
          "height": 104
        },
        "outputId": "116cef4d-9085-4d92-901d-a74b5d710859"
      },
      "source": [
        "!python check_prime.py"
      ],
      "execution_count": 9,
      "outputs": [
        {
          "output_type": "stream",
          "text": [
            "\n",
            "----------------------------------------------------------------------\n",
            "Ran 0 tests in 0.000s\n",
            "\n",
            "OK\n"
          ],
          "name": "stdout"
        }
      ]
    },
    {
      "cell_type": "code",
      "metadata": {
        "id": "_G6r5aF42cFN",
        "colab_type": "code",
        "colab": {
          "base_uri": "https://localhost:8080/",
          "height": 35
        },
        "outputId": "3c52e884-431f-41d2-bdc2-72a0c6a38f49"
      },
      "source": [
        "!pwd"
      ],
      "execution_count": 10,
      "outputs": [
        {
          "output_type": "stream",
          "text": [
            "/content\n"
          ],
          "name": "stdout"
        }
      ]
    },
    {
      "cell_type": "code",
      "metadata": {
        "id": "XRuzaSCD2gpQ",
        "colab_type": "code",
        "colab": {}
      },
      "source": [
        ""
      ],
      "execution_count": 0,
      "outputs": []
    }
  ]
}