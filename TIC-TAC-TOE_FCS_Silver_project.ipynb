{
  "nbformat": 4,
  "nbformat_minor": 0,
  "metadata": {
    "colab": {
      "name": "TIC -TAC- TOE FCS Silver project.ipynb",
      "provenance": []
    },
    "kernelspec": {
      "name": "python3",
      "display_name": "Python 3"
    }
  },
  "cells": [
    {
      "cell_type": "markdown",
      "metadata": {
        "id": "tVQkSRJcP1Df",
        "colab_type": "text"
      },
      "source": [
        "TIC-TAC-TOE GAME"
      ]
    },
    {
      "cell_type": "code",
      "metadata": {
        "id": "b7f_8L5EP5hr",
        "colab_type": "code",
        "colab": {}
      },
      "source": [
        "from IPython.display  import clear_output\n",
        "   \n",
        "def display_board(board):\n",
        "    clear_output()\n",
        "    print(' '+board[7]+'  |  '+board[8]+'  |  '+board[9]+' ')\n",
        "    print('_ _ _ _ _ _')\n",
        "    print(' '+board[4]+'  |  '+board[5]+'  |  '+board[6]+' ')\n",
        "    print('_ _ _ _ _ _')\n",
        "    print(' '+board[1]+'  |  '+board[2]+'  |  '+board[3]+' ')"
      ],
      "execution_count": 0,
      "outputs": []
    },
    {
      "cell_type": "code",
      "metadata": {
        "id": "Mpj3xK-3RB3u",
        "colab_type": "code",
        "colab": {}
      },
      "source": [
        "board = ['#', 'X', 'O', 'X', 'O', 'X', 'O', 'X', 'O', 'X', 'O']\n"
      ],
      "execution_count": 0,
      "outputs": []
    },
    {
      "cell_type": "code",
      "metadata": {
        "id": "htZvo4W9SIrF",
        "colab_type": "code",
        "colab": {
          "base_uri": "https://localhost:8080/",
          "height": 104
        },
        "outputId": "dee0c75b-f465-426e-d2d5-98141e8a6c19"
      },
      "source": [
        "display_board(board)"
      ],
      "execution_count": 6,
      "outputs": [
        {
          "output_type": "stream",
          "text": [
            " X  |  O  |  X \n",
            "_ _ _ _ _ _\n",
            " O  |  X  |  O \n",
            "_ _ _ _ _ _\n",
            " X  |  O  |  X \n"
          ],
          "name": "stdout"
        }
      ]
    },
    {
      "cell_type": "code",
      "metadata": {
        "id": "lMr9C5EfSOjV",
        "colab_type": "code",
        "colab": {}
      },
      "source": [
        "def player_input():\n",
        "    marker = ''\n",
        "    while not (marker == \"X\" or marker == \"O\"):\n",
        "         marker = input(\"Enter a marker X/O for player one: \").upper()\n",
        "\n",
        "    if marker == 'X':\n",
        "       return('X', 'O')\n",
        "    else:\n",
        "       return('O', 'X')\n"
      ],
      "execution_count": 0,
      "outputs": []
    },
    {
      "cell_type": "code",
      "metadata": {
        "id": "VTS_Pa4eULbz",
        "colab_type": "code",
        "colab": {
          "base_uri": "https://localhost:8080/",
          "height": 69
        },
        "outputId": "2d8c504a-1c3e-4014-f411-75e13771b6a9"
      },
      "source": [
        "player_input()"
      ],
      "execution_count": 20,
      "outputs": [
        {
          "output_type": "stream",
          "text": [
            "Enter a marker X/O for player one: m\n",
            "Enter a marker X/O for player one: X\n"
          ],
          "name": "stdout"
        },
        {
          "output_type": "execute_result",
          "data": {
            "text/plain": [
              "('X', 'O')"
            ]
          },
          "metadata": {
            "tags": []
          },
          "execution_count": 20
        }
      ]
    },
    {
      "cell_type": "code",
      "metadata": {
        "id": "jrJxWARmUOkL",
        "colab_type": "code",
        "colab": {}
      },
      "source": [
        " def place_marker(board, marker, position):\n",
        "     board[position] = marker\n"
      ],
      "execution_count": 0,
      "outputs": []
    },
    {
      "cell_type": "code",
      "metadata": {
        "id": "sTlTTYgiWakH",
        "colab_type": "code",
        "colab": {}
      },
      "source": [
        "place_marker(board, \"X\", 5)"
      ],
      "execution_count": 0,
      "outputs": []
    },
    {
      "cell_type": "code",
      "metadata": {
        "id": "88VPdwryWkvf",
        "colab_type": "code",
        "colab": {
          "base_uri": "https://localhost:8080/",
          "height": 104
        },
        "outputId": "47ae20c4-648e-48f6-f422-c06a5f19ca8d"
      },
      "source": [
        "display_board(board)"
      ],
      "execution_count": 26,
      "outputs": [
        {
          "output_type": "stream",
          "text": [
            " X  |  O  |  X \n",
            "_ _ _ _ _ _\n",
            " O  |  X  |  O \n",
            "_ _ _ _ _ _\n",
            " X  |  O  |  X \n"
          ],
          "name": "stdout"
        }
      ]
    },
    {
      "cell_type": "code",
      "metadata": {
        "id": "Rtlj17H6WoPH",
        "colab_type": "code",
        "colab": {}
      },
      "source": [
        "def win_check(board, marker):\n",
        "    if( (board[7]==marker  and  board[8]==marker  and  board[9]==marker) or \n",
        "        (board[4]==marker  and  board[5]==marker  and  board[6]==marker) or \n",
        "        (board[1]==marker  and  board[2]==marker  and  board[3]==marker) or\n",
        "        (board[7]==marker  and  board[4]==marker  and  board[1]==marker) or \n",
        "        (board[8]==marker  and  board[5]==marker  and  board[2]==marker) or\n",
        "        (board[9]==marker  and  board[6]==marker  and  board[3]==marker) or \n",
        "        (board[7]==marker  and  board[5]==marker  and  board[3]==marker) or\n",
        "        (board[9]==marker  and  board[5]==marker  and  board[1]==marker)):\n",
        "        return True\n",
        "    else:\n",
        "        return False\n",
        "\n",
        "    "
      ],
      "execution_count": 0,
      "outputs": []
    },
    {
      "cell_type": "code",
      "metadata": {
        "id": "F_VS3m7EY3kh",
        "colab_type": "code",
        "colab": {
          "base_uri": "https://localhost:8080/",
          "height": 35
        },
        "outputId": "87b0cfd0-cc12-42e3-dd29-d2a5babe4eaa"
      },
      "source": [
        "win_check(board, 'X')"
      ],
      "execution_count": 29,
      "outputs": [
        {
          "output_type": "execute_result",
          "data": {
            "text/plain": [
              "True"
            ]
          },
          "metadata": {
            "tags": []
          },
          "execution_count": 29
        }
      ]
    },
    {
      "cell_type": "code",
      "metadata": {
        "id": "ouO6OV52Y-rg",
        "colab_type": "code",
        "colab": {
          "base_uri": "https://localhost:8080/",
          "height": 35
        },
        "outputId": "7f204fd9-b395-49db-9f79-0b161d42d8c9"
      },
      "source": [
        "win_check(board, 'O')"
      ],
      "execution_count": 30,
      "outputs": [
        {
          "output_type": "execute_result",
          "data": {
            "text/plain": [
              "False"
            ]
          },
          "metadata": {
            "tags": []
          },
          "execution_count": 30
        }
      ]
    },
    {
      "cell_type": "code",
      "metadata": {
        "id": "dWopjREdZCvr",
        "colab_type": "code",
        "colab": {}
      },
      "source": [
        "import random\n",
        "def choose_first():\n",
        "     num = random.randint(0,1)\n",
        "     if num == 1:\n",
        "        return 'player1'\n",
        "     else:\n",
        "        return 'player2'"
      ],
      "execution_count": 0,
      "outputs": []
    },
    {
      "cell_type": "code",
      "metadata": {
        "id": "SLfMITsxZrES",
        "colab_type": "code",
        "colab": {
          "base_uri": "https://localhost:8080/",
          "height": 35
        },
        "outputId": "cf9d5045-b854-4292-eb39-69a4c0dc8f7f"
      },
      "source": [
        "choose_first()"
      ],
      "execution_count": 35,
      "outputs": [
        {
          "output_type": "execute_result",
          "data": {
            "text/plain": [
              "'player1'"
            ]
          },
          "metadata": {
            "tags": []
          },
          "execution_count": 35
        }
      ]
    },
    {
      "cell_type": "code",
      "metadata": {
        "id": "E4dLHfPtZtjI",
        "colab_type": "code",
        "colab": {}
      },
      "source": [
        "board = ['#', 'X', ' ', ' ', 'O', 'X', ' ', 'X', ' ', 'X', 'O' ]"
      ],
      "execution_count": 0,
      "outputs": []
    },
    {
      "cell_type": "code",
      "metadata": {
        "id": "l4oq5FamaOei",
        "colab_type": "code",
        "colab": {}
      },
      "source": [
        "def space_check(board, position):\n",
        "    return board[position] == ' '"
      ],
      "execution_count": 0,
      "outputs": []
    },
    {
      "cell_type": "code",
      "metadata": {
        "id": "QU33_RhFaZz5",
        "colab_type": "code",
        "colab": {
          "base_uri": "https://localhost:8080/",
          "height": 35
        },
        "outputId": "8c527c5f-b920-4184-df7a-f9c331ef5ac5"
      },
      "source": [
        "space_check(board, 8)"
      ],
      "execution_count": 43,
      "outputs": [
        {
          "output_type": "execute_result",
          "data": {
            "text/plain": [
              "True"
            ]
          },
          "metadata": {
            "tags": []
          },
          "execution_count": 43
        }
      ]
    },
    {
      "cell_type": "code",
      "metadata": {
        "id": "9u_Td5TjadJg",
        "colab_type": "code",
        "colab": {}
      },
      "source": [
        "def full_board_check(board):\n",
        "    isFull = True\n",
        "    for i in board:\n",
        "        if i == ' ':\n",
        "            isFull = False\n",
        "    return isFull"
      ],
      "execution_count": 0,
      "outputs": []
    },
    {
      "cell_type": "code",
      "metadata": {
        "id": "j8xLz8hnbUbs",
        "colab_type": "code",
        "colab": {
          "base_uri": "https://localhost:8080/",
          "height": 35
        },
        "outputId": "d656957a-dec6-467f-97cd-d79d19640cd7"
      },
      "source": [
        "full_board_check(board)"
      ],
      "execution_count": 45,
      "outputs": [
        {
          "output_type": "execute_result",
          "data": {
            "text/plain": [
              "False"
            ]
          },
          "metadata": {
            "tags": []
          },
          "execution_count": 45
        }
      ]
    },
    {
      "cell_type": "code",
      "metadata": {
        "id": "_j3o0MoObXT3",
        "colab_type": "code",
        "colab": {}
      },
      "source": [
        "def full_board_check(board):\n",
        "    for i in range(1, 10):\n",
        "        if space_check(board, i):\n",
        "           return False\n",
        "    return True       "
      ],
      "execution_count": 0,
      "outputs": []
    },
    {
      "cell_type": "code",
      "metadata": {
        "id": "v3IbnczwcIZh",
        "colab_type": "code",
        "colab": {
          "base_uri": "https://localhost:8080/",
          "height": 35
        },
        "outputId": "34a8d8e2-c2f9-4c00-c033-9e02ecc2f335"
      },
      "source": [
        "full_board_check(board)"
      ],
      "execution_count": 48,
      "outputs": [
        {
          "output_type": "execute_result",
          "data": {
            "text/plain": [
              "False"
            ]
          },
          "metadata": {
            "tags": []
          },
          "execution_count": 48
        }
      ]
    },
    {
      "cell_type": "code",
      "metadata": {
        "id": "Up8EMeKwcN7z",
        "colab_type": "code",
        "colab": {}
      },
      "source": [
        "def players_choice(board):\n",
        "    position = 0\n",
        "    while not position in[1,2,3,4,5,6,7,8,9] or not space_check(board, position):\n",
        "           position = int(input(\"enter your next position: \"))\n",
        "    return position\n",
        "         \n",
        "  "
      ],
      "execution_count": 0,
      "outputs": []
    },
    {
      "cell_type": "code",
      "metadata": {
        "id": "7F9ZJ1YjdLRE",
        "colab_type": "code",
        "colab": {
          "base_uri": "https://localhost:8080/",
          "height": 52
        },
        "outputId": "9f09712c-1928-4dfd-b757-989b19e6129b"
      },
      "source": [
        "players_choice(board)"
      ],
      "execution_count": 52,
      "outputs": [
        {
          "output_type": "stream",
          "text": [
            "enter your next position: 6\n"
          ],
          "name": "stdout"
        },
        {
          "output_type": "execute_result",
          "data": {
            "text/plain": [
              "6"
            ]
          },
          "metadata": {
            "tags": []
          },
          "execution_count": 52
        }
      ]
    },
    {
      "cell_type": "code",
      "metadata": {
        "id": "g-qvgHEndqXk",
        "colab_type": "code",
        "colab": {}
      },
      "source": [
        "def replay():\n",
        " return input(\"Do you want to play again (Y/N): \").lower().startswith('y')"
      ],
      "execution_count": 0,
      "outputs": []
    },
    {
      "cell_type": "code",
      "metadata": {
        "id": "_A4OBCHUeM6G",
        "colab_type": "code",
        "colab": {
          "base_uri": "https://localhost:8080/",
          "height": 52
        },
        "outputId": "c20596ed-8fa3-4419-a74f-f7069447a486"
      },
      "source": [
        "replay()"
      ],
      "execution_count": 57,
      "outputs": [
        {
          "output_type": "stream",
          "text": [
            "Do you want to play again (Y/N): y\n"
          ],
          "name": "stdout"
        },
        {
          "output_type": "execute_result",
          "data": {
            "text/plain": [
              "True"
            ]
          },
          "metadata": {
            "tags": []
          },
          "execution_count": 57
        }
      ]
    },
    {
      "cell_type": "code",
      "metadata": {
        "id": "IRElBunOeQdn",
        "colab_type": "code",
        "colab": {
          "base_uri": "https://localhost:8080/",
          "height": 161
        },
        "outputId": "99b0b3cd-fde4-4c74-8b35-800e878079de"
      },
      "source": [
        "while True:\n",
        "     board = [' ']*10\n",
        "     player1_marker, player2_marker = player_input()\n",
        "     turn = choose_first()\n",
        "     print(turn + \"Will play first\")\n",
        "     play_game = input(\"Are yoy ready to play the game (Y/N) \").lower().startswith('y')\n",
        "     if play_game:\n",
        "        game_on = True\n",
        "     else:\n",
        "        game_on = False\n",
        "\n",
        "     while game_on:\n",
        "          if turn == 'player1':\n",
        "             display_board(board)\n",
        "             position = players_choice(board)\n",
        "             place_marker(board, player1_marker, position)\n",
        "             if win_check(board, player1_marker):\n",
        "                 display_board(board)\n",
        "                 print(\"Player 1 won the game!! congratzz ): \")\n",
        "                 game_on = False\n",
        "             else:\n",
        "                  if full_board_check(board):\n",
        "                    display_board(board)\n",
        "                    print(\"The game is draw!! better luck next time (: \")         \n",
        "                    break\n",
        "                  else:\n",
        "                    turn = \"player2\"\n",
        "          else:\n",
        "              display_board(board)\n",
        "              position = players_choice(board)\n",
        "              place_marker(board, player2_marker, position)\n",
        "              if win_check(board, player2_marker):\n",
        "                 display_board(board)\n",
        "                 print(\"Player 2 won the game!! congratzz ): \")\n",
        "                 game_on = False\n",
        "              else:\n",
        "                   if full_board_check(board):\n",
        "                    display_board(board)\n",
        "                    print(\"The game is draw!! better luck next time (: \")         \n",
        "                    break\n",
        "                   else:\n",
        "                     turn = \"player1\"\n",
        "if not replay():\n",
        "            break\n",
        "\n",
        "\n",
        "     "
      ],
      "execution_count": 0,
      "outputs": [
        {
          "output_type": "stream",
          "text": [
            " O  |     |    \n",
            "_ _ _ _ _ _\n",
            " X  |  X  |  X \n",
            "_ _ _ _ _ _\n",
            " X  |  O  |  O \n",
            "Player 1 won the game!! congratzz ): \n"
          ],
          "name": "stdout"
        }
      ]
    },
    {
      "cell_type": "code",
      "metadata": {
        "id": "cY-4ol1xi4Bc",
        "colab_type": "code",
        "colab": {}
      },
      "source": [
        ""
      ],
      "execution_count": 0,
      "outputs": []
    }
  ]
}
