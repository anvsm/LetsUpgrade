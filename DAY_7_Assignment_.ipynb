{
  "nbformat": 4,
  "nbformat_minor": 0,
  "metadata": {
    "colab": {
      "name": "DAY - 7 Assignment .ipynb",
      "provenance": []
    },
    "kernelspec": {
      "name": "python3",
      "display_name": "Python 3"
    }
  },
  "cells": [
    {
      "cell_type": "code",
      "metadata": {
        "id": "GjHJvBut2-ZI",
        "colab_type": "code",
        "colab": {
          "base_uri": "https://localhost:8080/",
          "height": 208
        },
        "outputId": "ce336eac-4aaa-4c1e-bf92-842ecee2a304"
      },
      "source": [
        "oldnumber = 0\n",
        "previousNumber = 1\n",
        "print('1')\n",
        "for i in range(0,10):\n",
        "    newNumber = previousNumber +oldnumber\n",
        "    oldnumber = previousNumber\n",
        "    previousNumber = newNumber\n",
        "    print(newNumber)"
      ],
      "execution_count": 1,
      "outputs": [
        {
          "output_type": "stream",
          "text": [
            "1\n",
            "1\n",
            "2\n",
            "3\n",
            "5\n",
            "8\n",
            "13\n",
            "21\n",
            "34\n",
            "55\n",
            "89\n"
          ],
          "name": "stdout"
        }
      ]
    },
    {
      "cell_type": "code",
      "metadata": {
        "id": "T98aowzm3Ikc",
        "colab_type": "code",
        "colab": {}
      },
      "source": [
        "def fibonacciSe(n):\n",
        "    oldnumber = 0\n",
        "    previousNumber = 1\n",
        "    print('1')\n",
        "    for i in range(0,n):\n",
        "        newNumber = previousNumber +oldnumber\n",
        "        oldnumber = previousNumber\n",
        "        previousNumber = newNumber\n",
        "        print(newNumber)"
      ],
      "execution_count": 0,
      "outputs": []
    },
    {
      "cell_type": "code",
      "metadata": {
        "id": "9qc77vSm3M_k",
        "colab_type": "code",
        "colab": {
          "base_uri": "https://localhost:8080/",
          "height": 243
        },
        "outputId": "0f59216a-2b21-474e-a035-83723128ff49"
      },
      "source": [
        "fibonacciSe(12)"
      ],
      "execution_count": 4,
      "outputs": [
        {
          "output_type": "stream",
          "text": [
            "1\n",
            "1\n",
            "2\n",
            "3\n",
            "5\n",
            "8\n",
            "13\n",
            "21\n",
            "34\n",
            "55\n",
            "89\n",
            "144\n",
            "233\n"
          ],
          "name": "stdout"
        }
      ]
    },
    {
      "cell_type": "code",
      "metadata": {
        "id": "t-B_FIPC3QNK",
        "colab_type": "code",
        "colab": {}
      },
      "source": [
        "# Decorator for the Function -- \n",
        "\n",
        "def inputDecoFun(argFun):\n",
        "    \n",
        "    def newFun():\n",
        "        num = int(input(\"Enter any Number - \"))\n",
        "        argFun(num)\n",
        "    return newFun"
      ],
      "execution_count": 0,
      "outputs": []
    },
    {
      "cell_type": "code",
      "metadata": {
        "id": "uD635bHT3W7-",
        "colab_type": "code",
        "colab": {}
      },
      "source": [
        "@inputDecoFun\n",
        "def fibonacciSe(n):\n",
        "    oldnumber = 0\n",
        "    previousNumber = 1\n",
        "    print('1')\n",
        "    for i in range(0,n):\n",
        "        newNumber = previousNumber +oldnumber\n",
        "        oldnumber = previousNumber\n",
        "        previousNumber = newNumber\n",
        "        print(newNumber)"
      ],
      "execution_count": 0,
      "outputs": []
    },
    {
      "cell_type": "code",
      "metadata": {
        "id": "lQjLclrV3aTL",
        "colab_type": "code",
        "colab": {
          "base_uri": "https://localhost:8080/",
          "height": 745
        },
        "outputId": "e3f15642-5f29-4e42-9adc-dc25b0bb8a81"
      },
      "source": [
        "fibonacciSe()"
      ],
      "execution_count": 7,
      "outputs": [
        {
          "output_type": "stream",
          "text": [
            "Enter any Number - 40\n",
            "1\n",
            "1\n",
            "2\n",
            "3\n",
            "5\n",
            "8\n",
            "13\n",
            "21\n",
            "34\n",
            "55\n",
            "89\n",
            "144\n",
            "233\n",
            "377\n",
            "610\n",
            "987\n",
            "1597\n",
            "2584\n",
            "4181\n",
            "6765\n",
            "10946\n",
            "17711\n",
            "28657\n",
            "46368\n",
            "75025\n",
            "121393\n",
            "196418\n",
            "317811\n",
            "514229\n",
            "832040\n",
            "1346269\n",
            "2178309\n",
            "3524578\n",
            "5702887\n",
            "9227465\n",
            "14930352\n",
            "24157817\n",
            "39088169\n",
            "63245986\n",
            "102334155\n",
            "165580141\n"
          ],
          "name": "stdout"
        }
      ]
    },
    {
      "cell_type": "code",
      "metadata": {
        "id": "oeHgVA6t3ePP",
        "colab_type": "code",
        "colab": {}
      },
      "source": [
        ""
      ],
      "execution_count": 0,
      "outputs": []
    }
  ]
}