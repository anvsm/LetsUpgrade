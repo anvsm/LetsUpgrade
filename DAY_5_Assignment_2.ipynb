{
  "nbformat": 4,
  "nbformat_minor": 0,
  "metadata": {
    "colab": {
      "name": "DAY - 5 Assignment 2.ipynb",
      "provenance": []
    },
    "kernelspec": {
      "name": "python3",
      "display_name": "Python 3"
    }
  },
  "cells": [
    {
      "cell_type": "code",
      "metadata": {
        "id": "Ro3IV8cj0lO5",
        "colab_type": "code",
        "colab": {}
      },
      "source": [
        "import math\n",
        "class Cone:\n",
        "    def __init__(self,r=1,h=1):\n",
        "        self.r = r\n",
        "        self.h = h\n",
        "        self.volume =0\n",
        "        self.surface_area = 0\n",
        "    def volume_fun(self):\n",
        "        self.volume = math.pi * self.r * self.r * (self.h/3)\n",
        "        return self.volume\n",
        "    def surface_area_fun(self):\n",
        "        base = math.pi * self.r * self.r\n",
        "        side = math.pi * self.r * math.sqrt(self.r**2 + self.h**2)\n",
        "        self.surface_area = base + side\n",
        "        return self.surface_area"
      ],
      "execution_count": 0,
      "outputs": []
    },
    {
      "cell_type": "code",
      "metadata": {
        "id": "ypkbnMRM0vFr",
        "colab_type": "code",
        "colab": {}
      },
      "source": [
        "cone1 = Cone(6,8)"
      ],
      "execution_count": 0,
      "outputs": []
    },
    {
      "cell_type": "code",
      "metadata": {
        "id": "CoL3NeXI0zm8",
        "colab_type": "code",
        "colab": {
          "base_uri": "https://localhost:8080/",
          "height": 35
        },
        "outputId": "944f9f50-4918-43d0-80ed-e3a43610bda5"
      },
      "source": [
        "\n",
        "cone1.volume_fun()"
      ],
      "execution_count": 3,
      "outputs": [
        {
          "output_type": "execute_result",
          "data": {
            "text/plain": [
              "301.59289474462014"
            ]
          },
          "metadata": {
            "tags": []
          },
          "execution_count": 3
        }
      ]
    },
    {
      "cell_type": "code",
      "metadata": {
        "id": "WZvc8uUF03av",
        "colab_type": "code",
        "colab": {}
      },
      "source": [
        ""
      ],
      "execution_count": 0,
      "outputs": []
    }
  ]
}