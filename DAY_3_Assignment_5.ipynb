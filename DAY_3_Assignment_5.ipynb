{
  "nbformat": 4,
  "nbformat_minor": 0,
  "metadata": {
    "colab": {
      "name": "DAY - 3 Assignment 5.ipynb",
      "provenance": []
    },
    "kernelspec": {
      "name": "python3",
      "display_name": "Python 3"
    }
  },
  "cells": [
    {
      "cell_type": "code",
      "metadata": {
        "id": "vHNeoaMmtWFb",
        "colab_type": "code",
        "colab": {
          "base_uri": "https://localhost:8080/",
          "height": 161
        },
        "outputId": "fa98b1c3-1325-4f53-8488-537385d141e3"
      },
      "source": [
        "ankit_x = 0 \n",
        "ankit_y = 0 \n",
        "\n",
        "max_move = 0\n",
        "\n",
        "while(max_move <= 5):\n",
        "    max_move += 1\n",
        "    command = input(\"Enter the Command for ankit to move - \")\n",
        "    command = command.lower()\n",
        "    \n",
        "    if(command == \"l\"):\n",
        "        ankit_x += -1\n",
        "    elif (command == \"r\"):\n",
        "        ankit_x += +1\n",
        "    elif (command == \"u\"):\n",
        "        ankit_y += 1\n",
        "    elif( command == \"d\"):\n",
        "        ankit_y -= 1\n",
        "    else: \n",
        "        print(\"Enter valid input, L,R,U,D\")\n",
        "    \n",
        "    print(\"ankit is here - \", ankit_x, ankit_y)"
      ],
      "execution_count": 0,
      "outputs": [
        {
          "output_type": "stream",
          "text": [
            "Enter the Command for ankit to move - l\n",
            "ankit is here -  -1 0\n",
            "Enter the Command for ankit to move - u\n",
            "ankit is here -  -1 1\n",
            "Enter the Command for ankit to move - d\n",
            "ankit is here -  -1 0\n"
          ],
          "name": "stdout"
        }
      ]
    },
    {
      "cell_type": "code",
      "metadata": {
        "id": "Gbwiprz0tgRX",
        "colab_type": "code",
        "colab": {}
      },
      "source": [
        ""
      ],
      "execution_count": 0,
      "outputs": []
    }
  ]
}