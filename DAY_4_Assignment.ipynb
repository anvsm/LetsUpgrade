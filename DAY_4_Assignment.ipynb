{
  "nbformat": 4,
  "nbformat_minor": 0,
  "metadata": {
    "colab": {
      "name": "DAY -4 Assignment.ipynb",
      "provenance": []
    },
    "kernelspec": {
      "name": "python3",
      "display_name": "Python 3"
    }
  },
  "cells": [
    {
      "cell_type": "code",
      "metadata": {
        "id": "SoH-5VF0TtBi",
        "colab_type": "code",
        "colab": {
          "base_uri": "https://localhost:8080/",
          "height": 191
        },
        "outputId": "1f4f6f48-58b5-4c04-acc4-eeeb4b7d220a"
      },
      "source": [
        "def getInput():\n",
        "    tempList=[]\n",
        "    i=0\n",
        "    while i < 8:\n",
        "        val = int(input(f\"Enter number {i+1}: \"))\n",
        "        tempList.append(val)\n",
        "        i+=1\n",
        "    return tempList\n",
        "\n",
        "\n",
        "def check(a):\n",
        "    subList = [1,1,5]\n",
        "    for i in a:\n",
        "        for j in subList:\n",
        "            if(len(subList)>=0 and j == i):\n",
        "                subList.pop(0)\n",
        "            else:\n",
        "                break\n",
        "    \n",
        "    if len(subList)==0:\n",
        "        return \"It's a match\"\n",
        "    else:\n",
        "        return \"It's gone\"\n",
        "\n",
        "\n",
        "supList = getInput()        \n",
        "print(\"Provided List is :\",supList)\n",
        "check(supList)"
      ],
      "execution_count": 1,
      "outputs": [
        {
          "output_type": "stream",
          "text": [
            "Enter number 1: 1\n",
            "Enter number 2: 4\n",
            "Enter number 3: 5\n",
            "Enter number 4: 1\n",
            "Enter number 5: 6\n",
            "Enter number 6: 4\n",
            "Enter number 7: 1\n",
            "Enter number 8: 4\n",
            "Provided List is : [1, 4, 5, 1, 6, 4, 1, 4]\n"
          ],
          "name": "stdout"
        },
        {
          "output_type": "execute_result",
          "data": {
            "text/plain": [
              "\"It's gone\""
            ]
          },
          "metadata": {
            "tags": []
          },
          "execution_count": 1
        }
      ]
    },
    {
      "cell_type": "code",
      "metadata": {
        "id": "NXZbGzhPT6nn",
        "colab_type": "code",
        "colab": {}
      },
      "source": [
        ""
      ],
      "execution_count": 0,
      "outputs": []
    }
  ]
}